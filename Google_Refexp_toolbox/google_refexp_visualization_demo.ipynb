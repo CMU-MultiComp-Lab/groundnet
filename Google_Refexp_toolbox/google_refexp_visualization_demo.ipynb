{
 "cells": [
  {
   "cell_type": "code",
   "execution_count": null,
   "metadata": {
    "collapsed": true
   },
   "outputs": [],
   "source": [
    "import scipy\n",
    "%matplotlib inline\n",
    "import numpy as np\n",
    "import skimage.io as io\n",
    "import matplotlib.pyplot as plt\n",
    "import pylab\n",
    "pylab.rcParams['figure.figsize'] = (10.0, 8.0)\n",
    "import matplotlib.patches as mpatches\n",
    "import sys\n",
    "import os\n",
    "\n",
    "# Import Refexp python class\n",
    "# Please MAKE SURE that ./google_refexp_py_lib is in your\n",
    "# python library search path\n",
    "sys.path.append(\"google_refexp_py_lib\")\n",
    "from refexp import Refexp"
   ]
  },
  {
   "cell_type": "code",
   "execution_count": null,
   "metadata": {
    "collapsed": false
   },
   "outputs": [],
   "source": [
    "# Specify datasets path.\n",
    "refexp_filename='google_refexp_dataset_release/google_refexp_train_201511_coco_aligned.json'\n",
    "coco_filename='external/coco/annotations/instances_train2014.json'\n",
    "imagesDir = 'external/coco/images'\n",
    "imagesType = 'train2014'\n",
    "\n",
    "# Create Refexp instance.\n",
    "refexp = Refexp(refexp_filename, coco_filename)"
   ]
  },
  {
   "cell_type": "code",
   "execution_count": null,
   "metadata": {
    "collapsed": false
   },
   "outputs": [],
   "source": [
    "# Get all images that contain all given categories.\n",
    "catIds = refexp.getCatIds(catNms=['person'])\n",
    "imgIds = refexp.getImgIds(catIds=catIds)\n",
    "# Select random image.\n",
    "random_img_id = imgIds[np.random.randint(0,len(imgIds))]\n",
    "img = refexp.loadImgs(random_img_id)[0]\n",
    "# Plot image and all region candidates from multibox detector.\n",
    "I = io.imread(os.path.join(imagesDir, imagesType, img['file_name']))\n",
    "plt.figure()\n",
    "plt.imshow(I)\n",
    "ax = plt.axis('off')\n",
    "plt.title('Multibox Region Candidates for this image')\n",
    "refexp.showRegionCandidates(img)"
   ]
  },
  {
   "cell_type": "code",
   "execution_count": null,
   "metadata": {
    "collapsed": false,
    "scrolled": false
   },
   "outputs": [],
   "source": [
    "# Plot one annotation for the current image: bbox and referring expressions.\n",
    "plt.imshow(I)\n",
    "ax = plt.axis('off')\n",
    "anns = refexp.getAnnIds(random_img_id)\n",
    "ann = refexp.loadAnns(anns[0])[0]\n",
    "refexp.showAnn(ann)"
   ]
  },
  {
   "cell_type": "code",
   "execution_count": null,
   "metadata": {
    "collapsed": false,
    "scrolled": true
   },
   "outputs": [],
   "source": [
    "# Get all referring expressions with the given filters.\n",
    "refexp_ids = refexp.getRefexpIds(tokens=['man'], len_min=4, len_max=7, referent='man', referent_has_attributes=True)\n",
    "# Display a random one if any.\n",
    "random_refexp_id = refexp_ids[np.random.randint(0,len(refexp_ids))]\n",
    "random_refexp = refexp.loadRefexps(random_refexp_id)\n",
    "print random_refexp[0]['raw']\n",
    "# Show the associated image.\n",
    "img_id_for_random_refexp = refexp.getImgIds(refexpIds = random_refexp_id)\n",
    "img_for_random_refexp = refexp.loadImgs(img_id_for_random_refexp)[0]\n",
    "I = io.imread('%s/%s/%s'%(imagesDir, imagesType, img_for_random_refexp['file_name']))\n",
    "plt.figure()\n",
    "plt.imshow(I)\n",
    "ax = plt.axis('off')\n",
    "# Plot the bbox.\n",
    "ann_id_for_refexp = refexp.getAnnIds(refexpIds=random_refexp_id)[0]\n",
    "ann_for_refexp = refexp.loadAnns(ann_id_for_refexp)[0]\n",
    "refexp.showAnn(ann_for_refexp, printRefexps=False)"
   ]
  },
  {
   "cell_type": "code",
   "execution_count": null,
   "metadata": {
    "collapsed": true
   },
   "outputs": [],
   "source": []
  }
 ],
 "metadata": {
  "kernelspec": {
   "display_name": "Python 2",
   "language": "python",
   "name": "python2"
  },
  "language_info": {
   "codemirror_mode": {
    "name": "ipython",
    "version": 2
   },
   "file_extension": ".py",
   "mimetype": "text/x-python",
   "name": "python",
   "nbconvert_exporter": "python",
   "pygments_lexer": "ipython2",
   "version": "2.7.13"
  }
 },
 "nbformat": 4,
 "nbformat_minor": 0
}
